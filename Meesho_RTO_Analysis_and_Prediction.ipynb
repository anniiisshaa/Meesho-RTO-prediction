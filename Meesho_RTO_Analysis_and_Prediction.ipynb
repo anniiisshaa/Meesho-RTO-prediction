{
 "cells": [
  {
   "cell_type": "markdown",
   "id": "25a6a636",
   "metadata": {},
   "source": [
    "# 🛍️ Meesho RTO Analysis and Prediction System (SQL + Python + ML)\n",
    "This project analyzes product returns (RTOs) using SQL + ML, based on real order-level Meesho data."
   ]
  },
  {
   "cell_type": "markdown",
   "id": "7f665fbf",
   "metadata": {},
   "source": [
    "## 📁 Step 1: Upload and Load Data"
   ]
  },
  {
   "cell_type": "code",
   "execution_count": null,
   "id": "d3b7832a",
   "metadata": {},
   "outputs": [],
   "source": [
    "from google.colab import files\n",
    "uploaded = files.upload()"
   ]
  },
  {
   "cell_type": "code",
   "execution_count": null,
   "id": "d34a5077",
   "metadata": {},
   "outputs": [],
   "source": [
    "import pandas as pd\n",
    "\n",
    "# Replace with your file names after upload\n",
    "df1 = pd.read_csv(\"/content/meesho ForwardReports.csv\")\n",
    "df2 = pd.read_csv(\"/content/meesho Orders Aug.csv\")\n",
    "\n",
    "df1.head()"
   ]
  },
  {
   "cell_type": "markdown",
   "id": "071c6523",
   "metadata": {},
   "source": [
    "## 🔄 Step 2: Merge Both Datasets on Sub Order Number"
   ]
  },
  {
   "cell_type": "code",
   "execution_count": null,
   "id": "c5206d7f",
   "metadata": {},
   "outputs": [],
   "source": [
    "# Standardize column names\n",
    "df1.rename(columns={'sub_order_num': 'Sub Order No'}, inplace=True)\n",
    "merged_df = pd.merge(df2, df1, on='Sub Order No', how='inner')\n",
    "merged_df.shape"
   ]
  },
  {
   "cell_type": "markdown",
   "id": "55ec11d6",
   "metadata": {},
   "source": [
    "## 🧮 Step 3: Run SQL Queries on Merged Data"
   ]
  },
  {
   "cell_type": "code",
   "execution_count": null,
   "id": "a4d75360",
   "metadata": {},
   "outputs": [],
   "source": [
    "import sqlite3\n",
    "\n",
    "# Create in-memory SQLite DB and table\n",
    "conn = sqlite3.connect(\":memory:\")\n",
    "merged_df.to_sql(\"orders\", conn, index=False)\n",
    "\n",
    "# Example query: RTO count by state\n",
    "pd.read_sql_query(\"\"\"\n",
    "SELECT [Customer State], COUNT(*) AS rto_count\n",
    "FROM orders\n",
    "WHERE [Reason for Credit Entry] = 'RTO_COMPLETE'\n",
    "GROUP BY [Customer State]\n",
    "ORDER BY rto_count DESC\n",
    "\"\"\", conn)"
   ]
  },
  {
   "cell_type": "markdown",
   "id": "8224c878",
   "metadata": {},
   "source": [
    "## 📊 Step 4: Visualize RTO Patterns"
   ]
  },
  {
   "cell_type": "code",
   "execution_count": null,
   "id": "9fa54b89",
   "metadata": {},
   "outputs": [],
   "source": [
    "import seaborn as sns\n",
    "import matplotlib.pyplot as plt\n",
    "\n",
    "# Plot RTOs by Size\n",
    "sns.countplot(data=merged_df[merged_df['Reason for Credit Entry'] == 'RTO_COMPLETE'], x='Size')\n",
    "plt.title(\"RTOs by Product Size\")\n",
    "plt.xticks(rotation=45)\n",
    "plt.show()"
   ]
  },
  {
   "cell_type": "markdown",
   "id": "5856acfc",
   "metadata": {},
   "source": [
    "## 🤖 Step 5: Predict RTO using ML"
   ]
  },
  {
   "cell_type": "code",
   "execution_count": null,
   "id": "93190959",
   "metadata": {},
   "outputs": [],
   "source": [
    "from sklearn.model_selection import train_test_split\n",
    "from sklearn.ensemble import RandomForestClassifier\n",
    "from sklearn.metrics import classification_report\n",
    "\n",
    "# Label encoding\n",
    "merged_df['is_rto'] = merged_df['Reason for Credit Entry'].apply(lambda x: 1 if x == 'RTO_COMPLETE' else 0)\n",
    "X = pd.get_dummies(merged_df[['Size', 'Customer State', 'Quantity']], drop_first=True)\n",
    "y = merged_df['is_rto']\n",
    "\n",
    "# Train/Test split and model\n",
    "X_train, X_test, y_train, y_test = train_test_split(X, y, test_size=0.3, random_state=42)\n",
    "model = RandomForestClassifier()\n",
    "model.fit(X_train, y_train)\n",
    "y_pred = model.predict(X_test)\n",
    "\n",
    "print(classification_report(y_test, y_pred))"
   ]
  }
 ],
 "metadata": {
  "language_info": {
   "name": "python"
  }
 },
 "nbformat": 4,
 "nbformat_minor": 5
}
